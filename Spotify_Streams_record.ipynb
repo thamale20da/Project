{
 "cells": [
  {
   "cell_type": "code",
   "execution_count": 171,
   "id": "3010cc79",
   "metadata": {},
   "outputs": [],
   "source": [
    "import pandas as pd\n",
    "import numpy as np\n",
    "import datetime as dt\n",
    "import matplotlib.pyplot as plt\n",
    "import seaborn as sns"
   ]
  },
  {
   "cell_type": "code",
   "execution_count": 172,
   "id": "6b7d16f9",
   "metadata": {},
   "outputs": [
    {
     "data": {
      "text/html": [
       "<div>\n",
       "<style scoped>\n",
       "    .dataframe tbody tr th:only-of-type {\n",
       "        vertical-align: middle;\n",
       "    }\n",
       "\n",
       "    .dataframe tbody tr th {\n",
       "        vertical-align: top;\n",
       "    }\n",
       "\n",
       "    .dataframe thead th {\n",
       "        text-align: right;\n",
       "    }\n",
       "</style>\n",
       "<table border=\"1\" class=\"dataframe\">\n",
       "  <thead>\n",
       "    <tr style=\"text-align: right;\">\n",
       "      <th></th>\n",
       "      <th>Date</th>\n",
       "      <th>Shape of You</th>\n",
       "      <th>Despacito</th>\n",
       "      <th>Something Just Like This</th>\n",
       "      <th>HUMBLE.</th>\n",
       "      <th>Unforgettable</th>\n",
       "    </tr>\n",
       "  </thead>\n",
       "  <tbody>\n",
       "    <tr>\n",
       "      <th>0</th>\n",
       "      <td>1/6/2017</td>\n",
       "      <td>12287078</td>\n",
       "      <td>NaN</td>\n",
       "      <td>NaN</td>\n",
       "      <td>NaN</td>\n",
       "      <td>NaN</td>\n",
       "    </tr>\n",
       "    <tr>\n",
       "      <th>1</th>\n",
       "      <td>1/7/2017</td>\n",
       "      <td>13190270</td>\n",
       "      <td>NaN</td>\n",
       "      <td>NaN</td>\n",
       "      <td>NaN</td>\n",
       "      <td>NaN</td>\n",
       "    </tr>\n",
       "    <tr>\n",
       "      <th>2</th>\n",
       "      <td>1/8/2017</td>\n",
       "      <td>13099919</td>\n",
       "      <td>NaN</td>\n",
       "      <td>NaN</td>\n",
       "      <td>NaN</td>\n",
       "      <td>NaN</td>\n",
       "    </tr>\n",
       "    <tr>\n",
       "      <th>3</th>\n",
       "      <td>1/9/2017</td>\n",
       "      <td>14506351</td>\n",
       "      <td>NaN</td>\n",
       "      <td>NaN</td>\n",
       "      <td>NaN</td>\n",
       "      <td>NaN</td>\n",
       "    </tr>\n",
       "    <tr>\n",
       "      <th>4</th>\n",
       "      <td>1/10/2017</td>\n",
       "      <td>14275628</td>\n",
       "      <td>NaN</td>\n",
       "      <td>NaN</td>\n",
       "      <td>NaN</td>\n",
       "      <td>NaN</td>\n",
       "    </tr>\n",
       "  </tbody>\n",
       "</table>\n",
       "</div>"
      ],
      "text/plain": [
       "        Date  Shape of You  Despacito  Something Just Like This  HUMBLE.  \\\n",
       "0   1/6/2017      12287078        NaN                       NaN      NaN   \n",
       "1   1/7/2017      13190270        NaN                       NaN      NaN   \n",
       "2   1/8/2017      13099919        NaN                       NaN      NaN   \n",
       "3   1/9/2017      14506351        NaN                       NaN      NaN   \n",
       "4  1/10/2017      14275628        NaN                       NaN      NaN   \n",
       "\n",
       "   Unforgettable  \n",
       "0            NaN  \n",
       "1            NaN  \n",
       "2            NaN  \n",
       "3            NaN  \n",
       "4            NaN  "
      ]
     },
     "execution_count": 172,
     "metadata": {},
     "output_type": "execute_result"
    }
   ],
   "source": [
    "spotify = pd.read_csv(r'C:\\Users\\DELL\\OneDrive\\Desktop\\spotify.csv')\n",
    "spotify.head()"
   ]
  },
  {
   "cell_type": "code",
   "execution_count": 173,
   "id": "ed4fb21e",
   "metadata": {},
   "outputs": [
    {
     "name": "stdout",
     "output_type": "stream",
     "text": [
      "<class 'pandas.core.frame.DataFrame'>\n",
      "RangeIndex: 366 entries, 0 to 365\n",
      "Data columns (total 6 columns):\n",
      " #   Column                    Non-Null Count  Dtype  \n",
      "---  ------                    --------------  -----  \n",
      " 0   Date                      366 non-null    object \n",
      " 1   Shape of You              366 non-null    int64  \n",
      " 2   Despacito                 359 non-null    float64\n",
      " 3   Something Just Like This  319 non-null    float64\n",
      " 4   HUMBLE.                   282 non-null    float64\n",
      " 5   Unforgettable             275 non-null    float64\n",
      "dtypes: float64(4), int64(1), object(1)\n",
      "memory usage: 17.3+ KB\n"
     ]
    }
   ],
   "source": [
    "spotify.info()"
   ]
  },
  {
   "cell_type": "code",
   "execution_count": 180,
   "id": "66bb9549",
   "metadata": {},
   "outputs": [
    {
     "data": {
      "text/plain": [
       "Shape of You                12287078.0\n",
       "Despacito                     275178.0\n",
       "Something Just Like This      215591.0\n",
       "HUMBLE.                      5591687.0\n",
       "Unforgettable                 317011.0\n",
       "Name: 0, dtype: float64"
      ]
     },
     "execution_count": 180,
     "metadata": {},
     "output_type": "execute_result"
    }
   ],
   "source": [
    "first_day_stream = spotify.drop(labels='Date', axis=1).fillna(method='bfill').iloc[0, :]\n",
    "first_day_stream"
   ]
  },
  {
   "cell_type": "code",
   "execution_count": 254,
   "id": "c6eb4218",
   "metadata": {},
   "outputs": [
    {
     "data": {
      "image/png": "[encoded data removed]",
      "text/plain": [
       "<Figure size 720x576 with 1 Axes>"
      ]
     },
     "metadata": {
      "needs_background": "light"
     },
     "output_type": "display_data"
    }
   ],
   "source": [
    "first_day_stream_df = first_day_stream.reset_index()\n",
    "first_day_stream_df.columns = ['Songs', '1st day Streams']\n",
    "plt.figure(figsize = (10,8))\n",
    "ax = sns.barplot(x = 'Songs', y = '1st day Streams', data = first_day_stream_df)"
   ]
  },
  {
   "cell_type": "code",
   "execution_count": null,
   "id": "cf075d96",
   "metadata": {},
   "outputs": [],
   "source": [
    "# Comment: Lượng stream ngày đầu của Shape of You cao áp đảo với 12.2M, gấp >2 lần bài cao thứ 2 là HUMBLE và bỏ xa 3 bài còn lại."
   ]
  },
  {
   "cell_type": "code",
   "execution_count": 221,
   "id": "f95a35a8",
   "metadata": {},
   "outputs": [
    {
     "data": {
      "text/plain": [
       "Shape of You                19764745.0\n",
       "Despacito                   23218183.0\n",
       "Something Just Like This     9736931.0\n",
       "HUMBLE.                     13144962.0\n",
       "Unforgettable                7483165.0\n",
       "dtype: float64"
      ]
     },
     "execution_count": 221,
     "metadata": {},
     "output_type": "execute_result"
    }
   ],
   "source": [
    "highest_daily_stream = spotify[['Shape of You','Despacito','Something Just Like This','HUMBLE.','Unforgettable']].max()\n",
    "highest_daily_stream"
   ]
  },
  {
   "cell_type": "code",
   "execution_count": 255,
   "id": "55334057",
   "metadata": {
    "scrolled": false
   },
   "outputs": [
    {
     "data": {
      "image/png": "[encoded data removed]",
      "text/plain": [
       "<Figure size 720x576 with 1 Axes>"
      ]
     },
     "metadata": {
      "needs_background": "light"
     },
     "output_type": "display_data"
    }
   ],
   "source": [
    "highest_daily_stream_df = highest_daily_stream.reset_index()\n",
    "highest_daily_stream_df.columns = ['Songs', 'Peak daily streams']\n",
    "plt.figure(figsize = (10,8))\n",
    "ax = sns.barplot(x = 'Songs', y = 'Peak daily streams', data = highest_daily_stream_df)"
   ]
  },
  {
   "cell_type": "code",
   "execution_count": null,
   "id": "459c139e",
   "metadata": {},
   "outputs": [],
   "source": [
    "# Tuy có lượng stream ngày đầu khủng nhất nhưng peak lượng stream daily không phải đến từ Shape of you mà là Despacito (23.2M), dù stream ngày đầu rất khiêm tốn (chỉ 275k). \n",
    "# Shape of you đứng thứ 2 với peak 19.7M stream"
   ]
  },
  {
   "cell_type": "code",
   "execution_count": 223,
   "id": "f9d831ac",
   "metadata": {},
   "outputs": [
    {
     "data": {
      "text/plain": [
       "Shape of You                8.180297e+06\n",
       "Despacito                   9.165803e+06\n",
       "Something Just Like This    4.345637e+06\n",
       "HUMBLE.                     4.649801e+06\n",
       "Unforgettable               4.687821e+06\n",
       "dtype: float64"
      ]
     },
     "execution_count": 223,
     "metadata": {},
     "output_type": "execute_result"
    }
   ],
   "source": [
    "avg_daily_stream = spotify[['Shape of You','Despacito','Something Just Like This','HUMBLE.','Unforgettable']].mean()\n",
    "avg_daily_stream"
   ]
  },
  {
   "cell_type": "code",
   "execution_count": 256,
   "id": "3f4b9810",
   "metadata": {},
   "outputs": [
    {
     "data": {
      "image/png": "[encoded data removed]",
      "text/plain": [
       "<Figure size 720x576 with 1 Axes>"
      ]
     },
     "metadata": {
      "needs_background": "light"
     },
     "output_type": "display_data"
    }
   ],
   "source": [
    "avg_daily_stream_df = avg_daily_stream.reset_index()\n",
    "avg_daily_stream_df.columns = ['Songs', 'Average daily streams']\n",
    "plt.figure(figsize = (10,8))\n",
    "ax = sns.barplot(x = 'Songs', y = 'Average daily streams', data = avg_daily_stream_df)"
   ]
  },
  {
   "cell_type": "code",
   "execution_count": 257,
   "id": "28ba1362",
   "metadata": {},
   "outputs": [],
   "source": [
    "# Tương ứng với peak daily cao nhất, Despacito cũng đứng đầu lượng stream trung bình theo ngày với 9.1M stream, chứng tỏ stream rất ổn định.\n",
    "# Tương tự với Shape of you, tiếp tục đứng vị trí thứ 2 lượng stream trung bình ngày 8.1M\n",
    "# 3 bài còn lại có lượng stream trung bình xấp xỉ nhau. HUMBLE. có khởi đầu khá tốt (đứng t2 lượng stream ngày đầu) nhưng không có sự bứt phá mạnh"
   ]
  },
  {
   "cell_type": "code",
   "execution_count": 225,
   "id": "942eedf9",
   "metadata": {},
   "outputs": [
    {
     "data": {
      "text/html": [
       "<div>\n",
       "<style scoped>\n",
       "    .dataframe tbody tr th:only-of-type {\n",
       "        vertical-align: middle;\n",
       "    }\n",
       "\n",
       "    .dataframe tbody tr th {\n",
       "        vertical-align: top;\n",
       "    }\n",
       "\n",
       "    .dataframe thead th {\n",
       "        text-align: right;\n",
       "    }\n",
       "</style>\n",
       "<table border=\"1\" class=\"dataframe\">\n",
       "  <thead>\n",
       "    <tr style=\"text-align: right;\">\n",
       "      <th></th>\n",
       "      <th>Date</th>\n",
       "      <th>Shape of You</th>\n",
       "      <th>Despacito</th>\n",
       "      <th>Something Just Like This</th>\n",
       "      <th>HUMBLE.</th>\n",
       "      <th>Unforgettable</th>\n",
       "      <th>Month</th>\n",
       "    </tr>\n",
       "  </thead>\n",
       "  <tbody>\n",
       "    <tr>\n",
       "      <th>0</th>\n",
       "      <td>2017-01-06</td>\n",
       "      <td>12287078</td>\n",
       "      <td>NaN</td>\n",
       "      <td>NaN</td>\n",
       "      <td>NaN</td>\n",
       "      <td>NaN</td>\n",
       "      <td>2017/01</td>\n",
       "    </tr>\n",
       "    <tr>\n",
       "      <th>1</th>\n",
       "      <td>2017-01-07</td>\n",
       "      <td>13190270</td>\n",
       "      <td>NaN</td>\n",
       "      <td>NaN</td>\n",
       "      <td>NaN</td>\n",
       "      <td>NaN</td>\n",
       "      <td>2017/01</td>\n",
       "    </tr>\n",
       "    <tr>\n",
       "      <th>2</th>\n",
       "      <td>2017-01-08</td>\n",
       "      <td>13099919</td>\n",
       "      <td>NaN</td>\n",
       "      <td>NaN</td>\n",
       "      <td>NaN</td>\n",
       "      <td>NaN</td>\n",
       "      <td>2017/01</td>\n",
       "    </tr>\n",
       "    <tr>\n",
       "      <th>3</th>\n",
       "      <td>2017-01-09</td>\n",
       "      <td>14506351</td>\n",
       "      <td>NaN</td>\n",
       "      <td>NaN</td>\n",
       "      <td>NaN</td>\n",
       "      <td>NaN</td>\n",
       "      <td>2017/01</td>\n",
       "    </tr>\n",
       "    <tr>\n",
       "      <th>4</th>\n",
       "      <td>2017-01-10</td>\n",
       "      <td>14275628</td>\n",
       "      <td>NaN</td>\n",
       "      <td>NaN</td>\n",
       "      <td>NaN</td>\n",
       "      <td>NaN</td>\n",
       "      <td>2017/01</td>\n",
       "    </tr>\n",
       "    <tr>\n",
       "      <th>...</th>\n",
       "      <td>...</td>\n",
       "      <td>...</td>\n",
       "      <td>...</td>\n",
       "      <td>...</td>\n",
       "      <td>...</td>\n",
       "      <td>...</td>\n",
       "      <td>...</td>\n",
       "    </tr>\n",
       "    <tr>\n",
       "      <th>361</th>\n",
       "      <td>2018-01-05</td>\n",
       "      <td>4492978</td>\n",
       "      <td>3450315.0</td>\n",
       "      <td>2408365.0</td>\n",
       "      <td>2685857.0</td>\n",
       "      <td>2869783.0</td>\n",
       "      <td>2018/01</td>\n",
       "    </tr>\n",
       "    <tr>\n",
       "      <th>362</th>\n",
       "      <td>2018-01-06</td>\n",
       "      <td>4416476</td>\n",
       "      <td>3394284.0</td>\n",
       "      <td>2188035.0</td>\n",
       "      <td>2559044.0</td>\n",
       "      <td>2743748.0</td>\n",
       "      <td>2018/01</td>\n",
       "    </tr>\n",
       "    <tr>\n",
       "      <th>363</th>\n",
       "      <td>2018-01-07</td>\n",
       "      <td>4009104</td>\n",
       "      <td>3020789.0</td>\n",
       "      <td>1908129.0</td>\n",
       "      <td>2350985.0</td>\n",
       "      <td>2441045.0</td>\n",
       "      <td>2018/01</td>\n",
       "    </tr>\n",
       "    <tr>\n",
       "      <th>364</th>\n",
       "      <td>2018-01-08</td>\n",
       "      <td>4135505</td>\n",
       "      <td>2755266.0</td>\n",
       "      <td>2023251.0</td>\n",
       "      <td>2523265.0</td>\n",
       "      <td>2622693.0</td>\n",
       "      <td>2018/01</td>\n",
       "    </tr>\n",
       "    <tr>\n",
       "      <th>365</th>\n",
       "      <td>2018-01-09</td>\n",
       "      <td>4168506</td>\n",
       "      <td>2791601.0</td>\n",
       "      <td>2058016.0</td>\n",
       "      <td>2727678.0</td>\n",
       "      <td>2627334.0</td>\n",
       "      <td>2018/01</td>\n",
       "    </tr>\n",
       "  </tbody>\n",
       "</table>\n",
       "<p>366 rows × 7 columns</p>\n",
       "</div>"
      ],
      "text/plain": [
       "          Date  Shape of You  Despacito  Something Just Like This    HUMBLE.  \\\n",
       "0   2017-01-06      12287078        NaN                       NaN        NaN   \n",
       "1   2017-01-07      13190270        NaN                       NaN        NaN   \n",
       "2   2017-01-08      13099919        NaN                       NaN        NaN   \n",
       "3   2017-01-09      14506351        NaN                       NaN        NaN   \n",
       "4   2017-01-10      14275628        NaN                       NaN        NaN   \n",
       "..         ...           ...        ...                       ...        ...   \n",
       "361 2018-01-05       4492978  3450315.0                 2408365.0  2685857.0   \n",
       "362 2018-01-06       4416476  3394284.0                 2188035.0  2559044.0   \n",
       "363 2018-01-07       4009104  3020789.0                 1908129.0  2350985.0   \n",
       "364 2018-01-08       4135505  2755266.0                 2023251.0  2523265.0   \n",
       "365 2018-01-09       4168506  2791601.0                 2058016.0  2727678.0   \n",
       "\n",
       "     Unforgettable    Month  \n",
       "0              NaN  2017/01  \n",
       "1              NaN  2017/01  \n",
       "2              NaN  2017/01  \n",
       "3              NaN  2017/01  \n",
       "4              NaN  2017/01  \n",
       "..             ...      ...  \n",
       "361      2869783.0  2018/01  \n",
       "362      2743748.0  2018/01  \n",
       "363      2441045.0  2018/01  \n",
       "364      2622693.0  2018/01  \n",
       "365      2627334.0  2018/01  \n",
       "\n",
       "[366 rows x 7 columns]"
      ]
     },
     "execution_count": 225,
     "metadata": {},
     "output_type": "execute_result"
    }
   ],
   "source": [
    "spotify['Date'] = spotify['Date'].apply(pd.to_datetime)\n",
    "spotify['Month'] = spotify['Date'].dt.strftime('%Y/%m')\n",
    "spotify"
   ]
  },
  {
   "cell_type": "code",
   "execution_count": 226,
   "id": "bb856ce1",
   "metadata": {},
   "outputs": [
    {
     "data": {
      "text/html": [
       "<div>\n",
       "<style scoped>\n",
       "    .dataframe tbody tr th:only-of-type {\n",
       "        vertical-align: middle;\n",
       "    }\n",
       "\n",
       "    .dataframe tbody tr th {\n",
       "        vertical-align: top;\n",
       "    }\n",
       "\n",
       "    .dataframe thead th {\n",
       "        text-align: right;\n",
       "    }\n",
       "</style>\n",
       "<table border=\"1\" class=\"dataframe\">\n",
       "  <thead>\n",
       "    <tr style=\"text-align: right;\">\n",
       "      <th></th>\n",
       "      <th>Month</th>\n",
       "      <th>Shape of You</th>\n",
       "      <th>Despacito</th>\n",
       "      <th>Something Just Like This</th>\n",
       "      <th>HUMBLE.</th>\n",
       "      <th>Unforgettable</th>\n",
       "    </tr>\n",
       "  </thead>\n",
       "  <tbody>\n",
       "    <tr>\n",
       "      <th>0</th>\n",
       "      <td>2017/01</td>\n",
       "      <td>366007170</td>\n",
       "      <td>71480567.0</td>\n",
       "      <td>NaN</td>\n",
       "      <td>NaN</td>\n",
       "      <td>NaN</td>\n",
       "    </tr>\n",
       "    <tr>\n",
       "      <th>1</th>\n",
       "      <td>2017/02</td>\n",
       "      <td>407227623</td>\n",
       "      <td>202291897.0</td>\n",
       "      <td>47546785.0</td>\n",
       "      <td>NaN</td>\n",
       "      <td>NaN</td>\n",
       "    </tr>\n",
       "    <tr>\n",
       "      <th>2</th>\n",
       "      <td>2017/03</td>\n",
       "      <td>469111248</td>\n",
       "      <td>204776812.0</td>\n",
       "      <td>245218470.0</td>\n",
       "      <td>5591687.0</td>\n",
       "      <td>NaN</td>\n",
       "    </tr>\n",
       "    <tr>\n",
       "      <th>3</th>\n",
       "      <td>2017/04</td>\n",
       "      <td>340035736</td>\n",
       "      <td>331026405.0</td>\n",
       "      <td>230799878.0</td>\n",
       "      <td>275145533.0</td>\n",
       "      <td>39663050.0</td>\n",
       "    </tr>\n",
       "    <tr>\n",
       "      <th>4</th>\n",
       "      <td>2017/05</td>\n",
       "      <td>269169687</td>\n",
       "      <td>589562035.0</td>\n",
       "      <td>179955790.0</td>\n",
       "      <td>242281099.0</td>\n",
       "      <td>131442332.0</td>\n",
       "    </tr>\n",
       "    <tr>\n",
       "      <th>5</th>\n",
       "      <td>2017/06</td>\n",
       "      <td>219295280</td>\n",
       "      <td>539655575.0</td>\n",
       "      <td>146163025.0</td>\n",
       "      <td>180304289.0</td>\n",
       "      <td>181656672.0</td>\n",
       "    </tr>\n",
       "    <tr>\n",
       "      <th>6</th>\n",
       "      <td>2017/07</td>\n",
       "      <td>199073911</td>\n",
       "      <td>461977945.0</td>\n",
       "      <td>132798116.0</td>\n",
       "      <td>133413179.0</td>\n",
       "      <td>213261232.0</td>\n",
       "    </tr>\n",
       "    <tr>\n",
       "      <th>7</th>\n",
       "      <td>2017/08</td>\n",
       "      <td>166852553</td>\n",
       "      <td>318601413.0</td>\n",
       "      <td>105478568.0</td>\n",
       "      <td>114295251.0</td>\n",
       "      <td>204649939.0</td>\n",
       "    </tr>\n",
       "    <tr>\n",
       "      <th>8</th>\n",
       "      <td>2017/09</td>\n",
       "      <td>137980741</td>\n",
       "      <td>197573957.0</td>\n",
       "      <td>81839334.0</td>\n",
       "      <td>100877545.0</td>\n",
       "      <td>169958259.0</td>\n",
       "    </tr>\n",
       "    <tr>\n",
       "      <th>9</th>\n",
       "      <td>2017/10</td>\n",
       "      <td>127884795</td>\n",
       "      <td>138591790.0</td>\n",
       "      <td>71048883.0</td>\n",
       "      <td>90080702.0</td>\n",
       "      <td>134255422.0</td>\n",
       "    </tr>\n",
       "    <tr>\n",
       "      <th>10</th>\n",
       "      <td>2017/11</td>\n",
       "      <td>116052127</td>\n",
       "      <td>97474673.0</td>\n",
       "      <td>59784085.0</td>\n",
       "      <td>70177982.0</td>\n",
       "      <td>103967478.0</td>\n",
       "    </tr>\n",
       "    <tr>\n",
       "      <th>11</th>\n",
       "      <td>2017/12</td>\n",
       "      <td>135624071</td>\n",
       "      <td>105157706.0</td>\n",
       "      <td>65781963.0</td>\n",
       "      <td>76192719.0</td>\n",
       "      <td>86307202.0</td>\n",
       "    </tr>\n",
       "    <tr>\n",
       "      <th>12</th>\n",
       "      <td>2018/01</td>\n",
       "      <td>39673841</td>\n",
       "      <td>32352672.0</td>\n",
       "      <td>19843398.0</td>\n",
       "      <td>22883759.0</td>\n",
       "      <td>23989304.0</td>\n",
       "    </tr>\n",
       "  </tbody>\n",
       "</table>\n",
       "</div>"
      ],
      "text/plain": [
       "      Month  Shape of You    Despacito  Something Just Like This      HUMBLE.  \\\n",
       "0   2017/01     366007170   71480567.0                       NaN          NaN   \n",
       "1   2017/02     407227623  202291897.0                47546785.0          NaN   \n",
       "2   2017/03     469111248  204776812.0               245218470.0    5591687.0   \n",
       "3   2017/04     340035736  331026405.0               230799878.0  275145533.0   \n",
       "4   2017/05     269169687  589562035.0               179955790.0  242281099.0   \n",
       "5   2017/06     219295280  539655575.0               146163025.0  180304289.0   \n",
       "6   2017/07     199073911  461977945.0               132798116.0  133413179.0   \n",
       "7   2017/08     166852553  318601413.0               105478568.0  114295251.0   \n",
       "8   2017/09     137980741  197573957.0                81839334.0  100877545.0   \n",
       "9   2017/10     127884795  138591790.0                71048883.0   90080702.0   \n",
       "10  2017/11     116052127   97474673.0                59784085.0   70177982.0   \n",
       "11  2017/12     135624071  105157706.0                65781963.0   76192719.0   \n",
       "12  2018/01      39673841   32352672.0                19843398.0   22883759.0   \n",
       "\n",
       "    Unforgettable  \n",
       "0             NaN  \n",
       "1             NaN  \n",
       "2             NaN  \n",
       "3      39663050.0  \n",
       "4     131442332.0  \n",
       "5     181656672.0  \n",
       "6     213261232.0  \n",
       "7     204649939.0  \n",
       "8     169958259.0  \n",
       "9     134255422.0  \n",
       "10    103967478.0  \n",
       "11     86307202.0  \n",
       "12     23989304.0  "
      ]
     },
     "execution_count": 226,
     "metadata": {},
     "output_type": "execute_result"
    }
   ],
   "source": [
    "monthly_stream = spotify.groupby('Month',as_index=False).agg('sum').replace(0, np.nan)\n",
    "monthly_stream"
   ]
  },
  {
   "cell_type": "code",
   "execution_count": 229,
   "id": "53700f62",
   "metadata": {},
   "outputs": [
    {
     "data": {
      "text/plain": [
       "Shape of You                366007170.0\n",
       "Despacito                    71480567.0\n",
       "Something Just Like This     47546785.0\n",
       "HUMBLE.                       5591687.0\n",
       "Unforgettable                39663050.0\n",
       "Name: 0, dtype: float64"
      ]
     },
     "execution_count": 229,
     "metadata": {},
     "output_type": "execute_result"
    }
   ],
   "source": [
    "first_month_stream = monthly_stream.drop(labels='Month', axis=1).fillna(method='bfill').iloc[0, :]\n",
    "first_month_stream"
   ]
  },
  {
   "cell_type": "code",
   "execution_count": 244,
   "id": "2452ee05",
   "metadata": {},
   "outputs": [
    {
     "data": {
      "image/png": "[encoded data removed]",
      "text/plain": [
       "<Figure size 1080x576 with 1 Axes>"
      ]
     },
     "metadata": {
      "needs_background": "light"
     },
     "output_type": "display_data"
    }
   ],
   "source": [
    "first_month_stream_df = first_month_stream.reset_index()\n",
    "first_month_stream_df.columns = ['Songs', '1st month Streams']\n",
    "plt.figure(figsize = (10,8))\n",
    "ax = sns.barplot(x = 'Songs', y = '1st month Streams', data = first_month_stream_df)"
   ]
  },
  {
   "cell_type": "code",
   "execution_count": 231,
   "id": "e9443057",
   "metadata": {},
   "outputs": [
    {
     "data": {
      "text/plain": [
       "Shape of You                469111248.0\n",
       "Despacito                   589562035.0\n",
       "Something Just Like This    245218470.0\n",
       "HUMBLE.                     275145533.0\n",
       "Unforgettable               213261232.0\n",
       "dtype: float64"
      ]
     },
     "execution_count": 231,
     "metadata": {},
     "output_type": "execute_result"
    }
   ],
   "source": [
    "highest_monthly_stream = monthly_stream[['Shape of You','Despacito','Something Just Like This','HUMBLE.','Unforgettable']].max()\n",
    "highest_monthly_stream"
   ]
  },
  {
   "cell_type": "code",
   "execution_count": 246,
   "id": "c13aa9ca",
   "metadata": {},
   "outputs": [
    {
     "data": {
      "image/png": "[encoded data removed]",
      "text/plain": [
       "<Figure size 1080x576 with 1 Axes>"
      ]
     },
     "metadata": {
      "needs_background": "light"
     },
     "output_type": "display_data"
    }
   ],
   "source": [
    "highest_monthly_stream_df = highest_monthly_stream.reset_index()\n",
    "highest_monthly_stream_df.columns = ['Songs', 'Peak monthly streams']\n",
    "plt.figure(figsize = (10,8))\n",
    "ax = sns.barplot(x = 'Songs', y = 'Peak monthly streams', data = highest_monthly_stream_df)"
   ]
  },
  {
   "cell_type": "code",
   "execution_count": 227,
   "id": "cdeb69ea",
   "metadata": {},
   "outputs": [
    {
     "data": {
      "text/html": [
       "<div>\n",
       "<style scoped>\n",
       "    .dataframe tbody tr th:only-of-type {\n",
       "        vertical-align: middle;\n",
       "    }\n",
       "\n",
       "    .dataframe tbody tr th {\n",
       "        vertical-align: top;\n",
       "    }\n",
       "\n",
       "    .dataframe thead th {\n",
       "        text-align: right;\n",
       "    }\n",
       "</style>\n",
       "<table border=\"1\" class=\"dataframe\">\n",
       "  <thead>\n",
       "    <tr style=\"text-align: right;\">\n",
       "      <th></th>\n",
       "      <th>Month</th>\n",
       "      <th>Song</th>\n",
       "      <th>Streams</th>\n",
       "    </tr>\n",
       "  </thead>\n",
       "  <tbody>\n",
       "    <tr>\n",
       "      <th>0</th>\n",
       "      <td>2017/01</td>\n",
       "      <td>Shape of You</td>\n",
       "      <td>366007170.0</td>\n",
       "    </tr>\n",
       "    <tr>\n",
       "      <th>1</th>\n",
       "      <td>2017/02</td>\n",
       "      <td>Shape of You</td>\n",
       "      <td>407227623.0</td>\n",
       "    </tr>\n",
       "    <tr>\n",
       "      <th>2</th>\n",
       "      <td>2017/03</td>\n",
       "      <td>Shape of You</td>\n",
       "      <td>469111248.0</td>\n",
       "    </tr>\n",
       "    <tr>\n",
       "      <th>3</th>\n",
       "      <td>2017/04</td>\n",
       "      <td>Shape of You</td>\n",
       "      <td>340035736.0</td>\n",
       "    </tr>\n",
       "    <tr>\n",
       "      <th>4</th>\n",
       "      <td>2017/05</td>\n",
       "      <td>Shape of You</td>\n",
       "      <td>269169687.0</td>\n",
       "    </tr>\n",
       "    <tr>\n",
       "      <th>...</th>\n",
       "      <td>...</td>\n",
       "      <td>...</td>\n",
       "      <td>...</td>\n",
       "    </tr>\n",
       "    <tr>\n",
       "      <th>60</th>\n",
       "      <td>2017/09</td>\n",
       "      <td>Unforgettable</td>\n",
       "      <td>169958259.0</td>\n",
       "    </tr>\n",
       "    <tr>\n",
       "      <th>61</th>\n",
       "      <td>2017/10</td>\n",
       "      <td>Unforgettable</td>\n",
       "      <td>134255422.0</td>\n",
       "    </tr>\n",
       "    <tr>\n",
       "      <th>62</th>\n",
       "      <td>2017/11</td>\n",
       "      <td>Unforgettable</td>\n",
       "      <td>103967478.0</td>\n",
       "    </tr>\n",
       "    <tr>\n",
       "      <th>63</th>\n",
       "      <td>2017/12</td>\n",
       "      <td>Unforgettable</td>\n",
       "      <td>86307202.0</td>\n",
       "    </tr>\n",
       "    <tr>\n",
       "      <th>64</th>\n",
       "      <td>2018/01</td>\n",
       "      <td>Unforgettable</td>\n",
       "      <td>23989304.0</td>\n",
       "    </tr>\n",
       "  </tbody>\n",
       "</table>\n",
       "<p>65 rows × 3 columns</p>\n",
       "</div>"
      ],
      "text/plain": [
       "      Month           Song      Streams\n",
       "0   2017/01   Shape of You  366007170.0\n",
       "1   2017/02   Shape of You  407227623.0\n",
       "2   2017/03   Shape of You  469111248.0\n",
       "3   2017/04   Shape of You  340035736.0\n",
       "4   2017/05   Shape of You  269169687.0\n",
       "..      ...            ...          ...\n",
       "60  2017/09  Unforgettable  169958259.0\n",
       "61  2017/10  Unforgettable  134255422.0\n",
       "62  2017/11  Unforgettable  103967478.0\n",
       "63  2017/12  Unforgettable   86307202.0\n",
       "64  2018/01  Unforgettable   23989304.0\n",
       "\n",
       "[65 rows x 3 columns]"
      ]
     },
     "execution_count": 227,
     "metadata": {},
     "output_type": "execute_result"
    }
   ],
   "source": [
    "dfm = monthly_stream.melt('Month', var_name='Song', value_name='Streams')\n",
    "dfm"
   ]
  },
  {
   "cell_type": "code",
   "execution_count": 243,
   "id": "d260f24b",
   "metadata": {},
   "outputs": [
    {
     "data": {
      "image/png": "[encoded data removed]",
      "text/plain": [
       "<Figure size 1080x576 with 1 Axes>"
      ]
     },
     "metadata": {
      "needs_background": "light"
     },
     "output_type": "display_data"
    }
   ],
   "source": [
    "plt.figure(figsize = (15,8))\n",
    "ax1=sns.pointplot(data=dfm, x=\"Month\", y='Streams',hue='Song')"
   ]
  },
  {
   "cell_type": "code",
   "execution_count": null,
   "id": "b038b5cb",
   "metadata": {},
   "outputs": [],
   "source": [
    "# Ở quy mô tháng Shape of You cũng cho thấy thành tích giai đoạn đầu cực khủng với 366M trong tháng đầu tiên, bỏ xa các đối thủ còn lại. Thành tích này không thể không kể tới ảnh hưởng của tên tuổi \"hit-maker\" được bảo chứng - Ed Sheeran\n",
    "# Tuy nhiên Despacito mới là \"con quái vật\" có sự bứt phá ngoạn mục nhất. \n",
    "# Trong khi hầu hết các bài đều đạt peak monthly stream sau tháng đầu tiên (Shape of You đạt peak 469M stream sau 2 tháng) sau đó lượt stream giảm dần, thì Despacito vẫn tiếp tục tăng mạnh mẽ và bùng nổ vào tháng thứ 5, với peak 589M stream ấn tượng\n",
    "# Sau khi đạt peak tất cả đều giảm dần lượng stream hàng tháng, tăng nhẹ vào cuối năm (mùa trao các giải thưởng âm nhạc) sau đó lại giảm"
   ]
  },
  {
   "cell_type": "code",
   "execution_count": 236,
   "id": "457fd48e",
   "metadata": {},
   "outputs": [
    {
     "name": "stderr",
     "output_type": "stream",
     "text": [
      "C:\\Users\\DELL\\AppData\\Local\\Temp\\ipykernel_12304\\2089275149.py:1: FutureWarning: Dropping of nuisance columns in DataFrame reductions (with 'numeric_only=None') is deprecated; in a future version this will raise TypeError.  Select only valid columns before calling the reduction.\n",
      "  avg_monthly_stream = monthly_stream.mean()\n"
     ]
    },
    {
     "data": {
      "text/plain": [
       "Shape of You                2.303068e+08\n",
       "Despacito                   2.531172e+08\n",
       "Something Just Like This    1.155215e+08\n",
       "HUMBLE.                     1.192040e+08\n",
       "Unforgettable               1.289151e+08\n",
       "dtype: float64"
      ]
     },
     "execution_count": 236,
     "metadata": {},
     "output_type": "execute_result"
    }
   ],
   "source": [
    "avg_monthly_stream = monthly_stream.mean()\n",
    "avg_monthly_stream"
   ]
  },
  {
   "cell_type": "code",
   "execution_count": 245,
   "id": "f4d9ca40",
   "metadata": {},
   "outputs": [
    {
     "data": {
      "image/png": "[encoded data removed]",
      "text/plain": [
       "<Figure size 1080x576 with 1 Axes>"
      ]
     },
     "metadata": {
      "needs_background": "light"
     },
     "output_type": "display_data"
    }
   ],
   "source": [
    "avg_monthly_stream_df = avg_monthly_stream.reset_index()\n",
    "avg_monthly_stream_df.columns = ['Songs', 'Average monthly streams']\n",
    "plt.figure(figsize = (10,8))\n",
    "ax = sns.barplot(x = 'Songs', y = 'Average monthly streams', data = avg_monthly_stream_df)"
   ]
  },
  {
   "cell_type": "code",
   "execution_count": null,
   "id": "068a9e65",
   "metadata": {},
   "outputs": [],
   "source": [
    "# Despacito và Shape of You lần lượt đứng #1 và #2 về lượng stream trung bình tháng với 253M và 230M stream, gấp ~2 lần so với các bài còn lại\n",
    "# Tổng kết: Shape of You có thành tích khởi đầu tốt nhất và giữ phong độ tương đối ổn định từ đầu đến cuối, còn Despacito có cú lội ngược dòng vô cùng ấn tượng và thành tích đường dài xuất sắc nhất trong năm 2017"
   ]
  },
  {
   "cell_type": "code",
   "execution_count": null,
   "id": "cc11223d",
   "metadata": {},
   "outputs": [],
   "source": [
    "# Em muốn phân tích thêm metric số ngày đạt mốc 100M stream và 1B stream của từng bài nữa nhưng không tìm được cách code. Anh/chị chữa bài cho em tham khảo solution với nhe ạ :D"
   ]
  }
 ],
 "metadata": {
  "kernelspec": {
   "display_name": "Python 3 (ipykernel)",
   "language": "python",
   "name": "python3"
  },
  "language_info": {
   "codemirror_mode": {
    "name": "ipython",
    "version": 3
   },
   "file_extension": ".py",
   "mimetype": "text/x-python",
   "name": "python",
   "nbconvert_exporter": "python",
   "pygments_lexer": "ipython3",
   "version": "3.9.12"
  }
 },
 "nbformat": 4,
 "nbformat_minor": 5
}
