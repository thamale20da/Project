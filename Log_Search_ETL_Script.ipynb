{
 "cells": [
  {
   "cell_type": "code",
   "execution_count": 73,
   "metadata": {},
   "outputs": [],
   "source": [
    "from pyspark.sql import SparkSession\n",
    "from pyspark.sql import SQLContext\n",
    "from pyspark.sql.functions import when\n",
    "from pyspark.sql.functions import col\n",
    "from pyspark.sql.types import * \n",
    "from pyspark.sql.functions import lit\n",
    "import pyodbc\n",
    "import pandas as pd\n",
    "import pyspark.sql.functions as sf\n",
    "from datetime import date, timedelta\n",
    "import datetime\n",
    "from pyspark.sql.window import Window\n",
    "from pyspark.sql.functions import rank\n",
    "from pyspark.sql.functions import col\n",
    "from pyspark.sql.functions import desc, row_number, monotonically_increasing_id\n",
    "from sqlalchemy import create_engine"
   ]
  },
  {
   "cell_type": "code",
   "execution_count": 2,
   "metadata": {},
   "outputs": [],
   "source": [
    "spark = SparkSession.builder.config(\"spark.driver.memory\", \"15g\").getOrCreate()"
   ]
  },
  {
   "cell_type": "code",
   "execution_count": 3,
   "metadata": {},
   "outputs": [],
   "source": [
    "def generate_time_range_data(startdate,enddate):\n",
    "    format = '%Y-%m-%d'\n",
    "    day_time = []\n",
    "    startdate = datetime.datetime.strptime(startdate, format).date()\n",
    "    enddate = datetime.datetime.strptime(enddate, format).date()\n",
    "    delta = enddate - startdate\n",
    "    for i in range(delta.days + 1):\n",
    "        day = startdate + timedelta(days=i)\n",
    "        day = day.strftime('%Y%m%d')\n",
    "        day_time.append(str(day))\n",
    "    return day_time"
   ]
  },
  {
   "cell_type": "code",
   "execution_count": 6,
   "metadata": {},
   "outputs": [],
   "source": [
    "def process_logsearch_t6():\n",
    "    day_range = generate_time_range_data('2022-06-01','2022-06-14')\n",
    "    path = \"C:\\\\Users\\\\ASUS\\\\OneDrive\\\\Big_Data_Analytics\\\\Dataset\\\\log_search\\\\\"\n",
    "    df = spark.read.parquet('C:\\\\Users\\\\ASUS\\\\OneDrive\\\\Big_Data_Analytics\\\\Dataset\\\\log_search\\\\20220601')\n",
    "    df = df.filter(df.user_id.isNotNull())\n",
    "    df = df.select('datetime','user_id','keyword')\n",
    "    result_t6 = df\n",
    "    for i in day_range[1:]:\n",
    "        df1 = spark.read.parquet(path+i)\n",
    "        df1 = df1.filter(df1.user_id.isNotNull())\n",
    "        df1 = df1.select('datetime','user_id','keyword')\n",
    "        result_t6 = result_t6.union(df1)\n",
    "    result_t6 = result_t6.drop(result_t6.datetime)\n",
    "    result_t6 = result_t6.filter(result_t6.keyword.isNotNull())    \n",
    "    return result_t6\n"
   ]
  },
  {
   "cell_type": "code",
   "execution_count": 7,
   "metadata": {},
   "outputs": [],
   "source": [
    "def process_logsearch_t7():\n",
    "    day_range = generate_time_range_data('2022-07-01','2022-07-14')\n",
    "    path = \"C:\\\\Users\\\\ASUS\\\\OneDrive\\\\Big_Data_Analytics\\\\Dataset\\\\log_search\\\\\"\n",
    "    df = spark.read.parquet('C:\\\\Users\\\\ASUS\\\\OneDrive\\\\Big_Data_Analytics\\\\Dataset\\\\log_search\\\\20220701')\n",
    "    df = df.filter(df.user_id.isNotNull())\n",
    "    df = df.select('datetime','user_id','keyword')\n",
    "    result_t7 = df\n",
    "    for i in day_range[1:]:\n",
    "        df1 = spark.read.parquet(path+i)\n",
    "        df1 = df1.filter(df1.user_id.isNotNull())\n",
    "        df1 = df1.select('datetime','user_id','keyword')\n",
    "        result_t7 = result_t7.union(df1)\n",
    "    result_t7 = result_t7.drop(result_t7.datetime)\n",
    "    result_t7 = result_t7.filter(result_t7.keyword.isNotNull())\n",
    "    return result_t7\n",
    "    \n",
    "    \n",
    "\n"
   ]
  },
  {
   "cell_type": "code",
   "execution_count": 39,
   "metadata": {},
   "outputs": [],
   "source": [
    "def ranking_data(process_result):\n",
    "    window = Window.partitionBy(\"user_id\").orderBy(col('keyword').desc())\n",
    "    rank_result = process_result.withColumn('RANK',rank().over(window))\n",
    "    rank_result = rank_result.filter(rank_result.RANK == '1')\n",
    "    rank_result = rank_result.distinct()\n",
    "    return rank_result"
   ]
  },
  {
   "cell_type": "code",
   "execution_count": 69,
   "metadata": {},
   "outputs": [],
   "source": [
    "def process_most_search(result_t7,result_t6):\n",
    "    df = spark.read.csv('C:\\\\Users\\\\ASUS\\\\OneDrive\\\\Big_Data_Analytics\\\\BigData_Gen2\\\\Class 6\\\\HabbitResult',header=True)\n",
    "    df= df.withColumn('index', row_number().over(Window.orderBy(monotonically_increasing_id())) - 1)\n",
    "    result_t7 = result_t7.withColumn('index', row_number().over(Window.orderBy(monotonically_increasing_id())) - 1)\n",
    "    result_t6 = result_t6.withColumn('index', row_number().over(Window.orderBy(monotonically_increasing_id())) - 1)\n",
    "    df_t7 = df.join(result_t7, df.index == result_t7.index,'inner').drop(result_t7.user_id).drop(result_t7.index).withColumnRenamed('keyword','T7_Keyword')\n",
    "    df_t6 = df.join(result_t6, df.index == result_t6.index,'inner').drop(result_t6.user_id).drop(result_t6.index).withColumnRenamed('keyword','T6_Keyword')\n",
    "    result = df_t6.join(df_t7,df_t6.index == df_t7.index,'inner').select(df_t7.Contract,df_t7.Date,df_t7.SportDuration,df_t7.TVDuration,df_t7.ChildDuration,df_t7.RelaxDuration,df_t7.MovieDuration,df_t7.Most_Watch,df_t7.T7_Keyword,df_t6.T6_Keyword)\n",
    "    return result"
   ]
  },
  {
   "cell_type": "code",
   "execution_count": 78,
   "metadata": {},
   "outputs": [],
   "source": [
    "def import_to_mysql(result):\n",
    "    url = 'jdbc:mysql://' + 'localhost' + ':' + '3306' + '/' + 'Data_Engineer'\n",
    "    driver = \"com.mysql.cj.jdbc.Driver\"\n",
    "    user = 'root'\n",
    "    password = ''\n",
    "    result = result.withColumnRenamed('Most_Watch','MostWatch')\n",
    "    result.write.format('jdbc').option('url',url).option('driver',driver).option('dbtable','customer_behaviour').option('user',user).option('password',password).mode('append').save()\n",
    "    return print(\"Data Import Successfully\")"
   ]
  },
  {
   "cell_type": "code",
   "execution_count": 20,
   "metadata": {},
   "outputs": [],
   "source": [
    "result_t6 = process_logsearch_t6()"
   ]
  },
  {
   "cell_type": "code",
   "execution_count": 21,
   "metadata": {},
   "outputs": [
    {
     "name": "stdout",
     "output_type": "stream",
     "text": [
      "+--------+--------------------+\n",
      "| user_id|             keyword|\n",
      "+--------+--------------------+\n",
      "|44887906|            trữ tình|\n",
      "| 2719170|              bolero|\n",
      "| 8830996|cậu mang à sĩ hanako|\n",
      "|41559909|liên minh công lý...|\n",
      "|49026196|    việt nam vs appa|\n",
      "|41376437|nhất kiến khuynh tâm|\n",
      "| 1254139|                giác|\n",
      "|42534799|            nexsport|\n",
      "|49190631|Tìm kiếm bằng giọ...|\n",
      "|91485275|một mảnh băng tâm...|\n",
      "|45282582|            sáng tạo|\n",
      "| 2599280|            truc tep|\n",
      "|49297586|  ngôi nhà náo nhiệt|\n",
      "|46830828|           trực tiếp|\n",
      "|45231662|truc tiep bong da...|\n",
      "|06450121|vn vs afghanistan...|\n",
      "|49500606|             bóng đá|\n",
      "|46297858|      tình yêu ấm áp|\n",
      "|95659318|  lưỡi gươm diệt quỷ|\n",
      "| 9725680|           kênh vtv6|\n",
      "+--------+--------------------+\n",
      "only showing top 20 rows\n",
      "\n"
     ]
    }
   ],
   "source": [
    "result_t6.show()"
   ]
  },
  {
   "cell_type": "code",
   "execution_count": 22,
   "metadata": {},
   "outputs": [],
   "source": [
    "result_t7 = process_logsearch_t7()"
   ]
  },
  {
   "cell_type": "code",
   "execution_count": 23,
   "metadata": {},
   "outputs": [
    {
     "name": "stdout",
     "output_type": "stream",
     "text": [
      "+--------+--------------------+\n",
      "| user_id|             keyword|\n",
      "+--------+--------------------+\n",
      "|98331846|    NHUNG NGUOI THUA|\n",
      "|98424407|               HAPPI|\n",
      "|06571359|vietnam next top ...|\n",
      "|47382357| tình yêu từ 0 đến 1|\n",
      "| 7016618|           phim thái|\n",
      "|98320714|kẻ trộm mặt trăng...|\n",
      "|40385123|              sở hữu|\n",
      "|43952444|          fairy tail|\n",
      "|41374324|cảnh đẹp ngày vui...|\n",
      "|93954197|boku no hero acad...|\n",
      "|06848771|      prime provider|\n",
      "|95455337|    fairy tail movie|\n",
      "|49635591|phim 15 năm chờ đ...|\n",
      "|91154475|               v.i.p|\n",
      "|49167649|em là thành trì ...|\n",
      "|90805966|            tế công |\n",
      "| 4904933|   bằng chứng thép 3|\n",
      "| 7018473|Tìm kiếm bằng giọ...|\n",
      "|06524338|bạn trai tôi là h...|\n",
      "|47758697|sự trỗi dậy của k...|\n",
      "+--------+--------------------+\n",
      "only showing top 20 rows\n",
      "\n"
     ]
    }
   ],
   "source": [
    "result_t7.show()"
   ]
  },
  {
   "cell_type": "markdown",
   "metadata": {},
   "source": [
    "<b> Summary T6 <b>"
   ]
  },
  {
   "cell_type": "code",
   "execution_count": 24,
   "metadata": {},
   "outputs": [
    {
     "name": "stdout",
     "output_type": "stream",
     "text": [
      "+--------------------------------------------+-----+\n",
      "|keyword                                     |count|\n",
      "+--------------------------------------------+-----+\n",
      "|Liên Minh Công Lý: Phiên bản của Zack Snyder|8741 |\n",
      "|fairy tail                                  |6771 |\n",
      "|thiên nga bóng đêm                          |5471 |\n",
      "|sao băng                                    |4909 |\n",
      "|nữ thanh tra tài ba                         |4895 |\n",
      "|bắt ma phá án                               |4837 |\n",
      "|siêu nhân                                   |3938 |\n",
      "|mộng hoa lục                                |3411 |\n",
      "|cuộc chiến thượng lưu                       |3001 |\n",
      "|cô nàng trong trắng oh woo ri               |2950 |\n",
      "|vô tình nhặt được tổng tài                  |2646 |\n",
      "|hội pháp sư                                 |2556 |\n",
      "|tôi thấy hoa vàng trên cỏ xanh              |2540 |\n",
      "|why her?                                    |2449 |\n",
      "|lấy danh nghĩa người nhà                    |2443 |\n",
      "|bạn trai tôi là hồ ly                       |2304 |\n",
      "|cảnh đẹp ngày vui biết bao giờ              |2262 |\n",
      "|chàng hậu                                   |2226 |\n",
      "|yêu nhầm chị dâu                            |2179 |\n",
      "|Tìm kiếm bằng giọng nói                     |2105 |\n",
      "+--------------------------------------------+-----+\n",
      "only showing top 20 rows\n",
      "\n"
     ]
    }
   ],
   "source": [
    "result_t6.groupBy('keyword').count().orderBy(col('count').desc()).show(truncate=False)\n"
   ]
  },
  {
   "cell_type": "markdown",
   "metadata": {},
   "source": [
    "<b> Summary T7 <b> "
   ]
  },
  {
   "cell_type": "code",
   "execution_count": 25,
   "metadata": {},
   "outputs": [
    {
     "name": "stdout",
     "output_type": "stream",
     "text": [
      "+--------------------------------------------+-----+\n",
      "|keyword                                     |count|\n",
      "+--------------------------------------------+-----+\n",
      "|Liên Minh Công Lý: Phiên bản của Zack Snyder|8774 |\n",
      "|fairy tail                                  |5596 |\n",
      "|thanh thanh tử khâm                         |4465 |\n",
      "|con tim sắt đá                              |4412 |\n",
      "|chàng hậu                                   |4096 |\n",
      "|thiên nga bóng đêm                          |3712 |\n",
      "|siêu nhân                                   |3638 |\n",
      "|yêu tinh                                    |3423 |\n",
      "|vẻ đẹp đích thực                            |3394 |\n",
      "|hội pháp sư                                 |2911 |\n",
      "|Tìm kiếm bằng giọng nói                     |2837 |\n",
      "|kẻ trộm mặt trăng: minions                  |2822 |\n",
      "|nhất kiến khuynh tâm                        |2802 |\n",
      "|tôi thấy hoa vàng trên cỏ xanh              |2743 |\n",
      "|Thử Thách Thần Tượng                        |2593 |\n",
      "|sao băng                                    |2468 |\n",
      "|Kẻ Trộm Mặt Trăng: Minions                  |2433 |\n",
      "|cuộc chiến thượng lưu                       |2281 |\n",
      "|minh châu rực rỡ                            |2224 |\n",
      "|anna                                        |2164 |\n",
      "+--------------------------------------------+-----+\n",
      "only showing top 20 rows\n",
      "\n"
     ]
    }
   ],
   "source": [
    "result_t7.groupBy('keyword').count().orderBy(col('count').desc()).show(truncate=False)\n"
   ]
  },
  {
   "cell_type": "code",
   "execution_count": 40,
   "metadata": {},
   "outputs": [],
   "source": [
    "rank_result_t6 = ranking_data(result_t6)"
   ]
  },
  {
   "cell_type": "code",
   "execution_count": 41,
   "metadata": {},
   "outputs": [
    {
     "name": "stdout",
     "output_type": "stream",
     "text": [
      "+-------+--------------------------------------------+----+\n",
      "|user_id|keyword                                     |RANK|\n",
      "+-------+--------------------------------------------+----+\n",
      "|0000402|xem phim nhan duyen tien dinh thailan       |1   |\n",
      "|0027835|lời nói dối của hồ ly                       |1   |\n",
      "|0042335|tình anh quang dũng                         |1   |\n",
      "|0047402|aq                                          |1   |\n",
      "|0062340|quân tử lập thân                            |1   |\n",
      "|0145732|again my life                               |1   |\n",
      "|0156279|PLUNDERER                                   |1   |\n",
      "|0164517|lee min ho                                  |1   |\n",
      "|016773 |Liên Minh Công Lý: Phiên bản của Zack Snyder|1   |\n",
      "|0201199|vagabond                                    |1   |\n",
      "|021135 |hồ sơ trinh sát                             |1   |\n",
      "|0221207|thư ký kim sa                              |1   |\n",
      "|0258539|animal                                      |1   |\n",
      "|0286702|đại mạc đao                                 |1   |\n",
      "|0339265|blackclover                                 |1   |\n",
      "|0393163|sao băng                                    |1   |\n",
      "|0429167|nu hon giac quan thu 6                      |1   |\n",
      "|0486350|lệnh cho trái tim ngừng yêu em              |1   |\n",
      "|0511795|REPLY 1988                                  |1   |\n",
      "|0537192|tài xế ẩn danh                              |1   |\n",
      "+-------+--------------------------------------------+----+\n",
      "only showing top 20 rows\n",
      "\n"
     ]
    }
   ],
   "source": [
    "rank_result_t6.show(truncate=False)"
   ]
  },
  {
   "cell_type": "code",
   "execution_count": 42,
   "metadata": {},
   "outputs": [],
   "source": [
    "rank_result_t7 = ranking_data(result_t7)"
   ]
  },
  {
   "cell_type": "code",
   "execution_count": 44,
   "metadata": {},
   "outputs": [
    {
     "name": "stdout",
     "output_type": "stream",
     "text": [
      "+--------+-----------------------------------------------------+----+\n",
      "|user_id |keyword                                              |RANK|\n",
      "+--------+-----------------------------------------------------+----+\n",
      "|0000699 |thả thí                                              |1   |\n",
      "|0013936 |one pice                                             |1   |\n",
      "|0027835 |minh lan truyện                                      |1   |\n",
      "|0077738 |penthouse 3                                          |1   |\n",
      "|0152453 |d day                                                |1   |\n",
      "|0162317 |dhoom3                                               |1   |\n",
      "|0197583 |thap nhi dam                                         |1   |\n",
      "|0201199 |người thầy y đức 2                                   |1   |\n",
      "|0209346 |công tố viên chuyển sinh                             |1   |\n",
      "|0258467 |vẻ đẹp đích thực vietsub                             |1   |\n",
      "|0276520 |bất động sản Trường Sa                               |1   |\n",
      "|0292234 |DOREMO                                               |1   |\n",
      "|0461913 |bóng đá                                              |1   |\n",
      "|0473920 |batman v superman: dawn of justice (ultimate edition)|1   |\n",
      "|06009865|xuyên vào sách tôi muốn sống tới cùng                |1   |\n",
      "|06023968|khát vọng giàu sang                                  |1   |\n",
      "|06024778|tinh hà xán lan                                      |1   |\n",
      "|06037046|chú ơi em yêu anh thái lan tập 1                     |1   |\n",
      "|06041275|anna                                                 |1   |\n",
      "|06046161|minh châu rực rỡ                                     |1   |\n",
      "+--------+-----------------------------------------------------+----+\n",
      "only showing top 20 rows\n",
      "\n"
     ]
    }
   ],
   "source": [
    "rank_result_t7.show(truncate=False)"
   ]
  },
  {
   "cell_type": "markdown",
   "metadata": {},
   "source": [
    "<b> Testing data <b>"
   ]
  },
  {
   "cell_type": "code",
   "execution_count": 45,
   "metadata": {},
   "outputs": [
    {
     "name": "stdout",
     "output_type": "stream",
     "text": [
      "+-------+---------------------+----+\n",
      "|user_id|keyword              |RANK|\n",
      "+-------+---------------------+----+\n",
      "|0027835|lời nói dối của hồ ly|1   |\n",
      "+-------+---------------------+----+\n",
      "\n"
     ]
    }
   ],
   "source": [
    "rank_result_t6.filter(rank_result_t6.user_id == '0027835').show(truncate=False)"
   ]
  },
  {
   "cell_type": "code",
   "execution_count": 46,
   "metadata": {},
   "outputs": [
    {
     "name": "stdout",
     "output_type": "stream",
     "text": [
      "+-------+---------------+----+\n",
      "|user_id|keyword        |RANK|\n",
      "+-------+---------------+----+\n",
      "|0027835|minh lan truyện|1   |\n",
      "+-------+---------------+----+\n",
      "\n"
     ]
    }
   ],
   "source": [
    "rank_result_t7.filter(rank_result_t7.user_id == '0027835').show(truncate=False)"
   ]
  },
  {
   "cell_type": "markdown",
   "metadata": {},
   "source": [
    "<b> Calculating Most search <b>"
   ]
  },
  {
   "cell_type": "code",
   "execution_count": 70,
   "metadata": {},
   "outputs": [],
   "source": [
    "result = process_most_search(result_t7,result_t6)"
   ]
  },
  {
   "cell_type": "code",
   "execution_count": 72,
   "metadata": {},
   "outputs": [
    {
     "name": "stdout",
     "output_type": "stream",
     "text": [
      "root\n",
      " |-- Contract: string (nullable = true)\n",
      " |-- Date: string (nullable = true)\n",
      " |-- SportDuration: string (nullable = true)\n",
      " |-- TVDuration: string (nullable = true)\n",
      " |-- ChildDuration: string (nullable = true)\n",
      " |-- RelaxDuration: string (nullable = true)\n",
      " |-- MovieDuration: string (nullable = true)\n",
      " |-- Most_Watch: string (nullable = true)\n",
      " |-- T7_Keyword: string (nullable = true)\n",
      " |-- T6_Keyword: string (nullable = true)\n",
      "\n"
     ]
    }
   ],
   "source": [
    "result.printSchema()"
   ]
  },
  {
   "cell_type": "code",
   "execution_count": 71,
   "metadata": {},
   "outputs": [
    {
     "name": "stdout",
     "output_type": "stream",
     "text": [
      "+---------+----------+-------------+----------+-------------+-------------+-------------+-----------+--------------------+--------------------+\n",
      "| Contract|      Date|SportDuration|TVDuration|ChildDuration|RelaxDuration|MovieDuration| Most_Watch|          T7_Keyword|          T6_Keyword|\n",
      "+---------+----------+-------------+----------+-------------+-------------+-------------+-----------+--------------------+--------------------+\n",
      "|AGAAA0520|2022-04-01|         null|    173458|         null|         null|          447|Truyền Hình|    NHUNG NGUOI THUA|            trữ tình|\n",
      "|AGAAA0663|2022-04-01|         null|     89001|         null|         null|         null|Truyền Hình|               HAPPI|              bolero|\n",
      "|AGAAA1058|2022-04-01|         null|    118784|         null|         null|         null|Truyền Hình|vietnam next top ...|cậu mang à sĩ hanako|\n",
      "|AGAAA1238|2022-04-01|         null|    163158|         null|         null|         null|Truyền Hình| tình yêu từ 0 đến 1|liên minh công lý...|\n",
      "|AGAAA1572|2022-04-01|         null|     27309|         null|         null|         null|Truyền Hình|           phim thái|    việt nam vs appa|\n",
      "|AGAAA1727|2022-04-01|         null|      5898|         null|         null|         null|Truyền Hình|kẻ trộm mặt trăng...|nhất kiến khuynh tâm|\n",
      "|AGAAA3240|2022-04-01|         null|     46748|           71|         null|          140|Truyền Hình|              sở hữu|                giác|\n",
      "|AGAAA3322|2022-04-01|         null|     42844|         null|         null|         1410|Truyền Hình|          fairy tail|            nexsport|\n",
      "|AGAAA3368|2022-04-01|         null|     24735|         null|         null|         null|Truyền Hình|cảnh đẹp ngày vui...|Tìm kiếm bằng giọ...|\n",
      "|AGAAA3654|2022-04-01|         null|     53982|         null|         null|         null|Truyền Hình|boku no hero acad...|một mảnh băng tâm...|\n",
      "|AGAAA3659|2022-04-01|         null|     18210|         null|         null|         null|Truyền Hình|      prime provider|            sáng tạo|\n",
      "|AGD006240|2022-04-01|         null|    175415|           71|           97|           76|Truyền Hình|    fairy tail movie|            truc tep|\n",
      "|AGD009631|2022-04-01|         null|   1199573|         null|         null|         null|Truyền Hình|phim 15 năm chờ đ...|  ngôi nhà náo nhiệt|\n",
      "|AGD011360|2022-04-01|         null|     89584|         null|         null|         null|Truyền Hình|               v.i.p|           trực tiếp|\n",
      "|AGD013348|2022-04-01|         null|     17969|         null|         null|        61292|Phim Truyện|em là thành trì ...|truc tiep bong da...|\n",
      "|AGD017958|2022-04-01|         null|    770067|         null|         null|         null|Truyền Hình|            tế công |vn vs afghanistan...|\n",
      "|AGD017990|2022-04-01|         null|    379999|         null|         null|         null|Truyền Hình|   bằng chứng thép 3|             bóng đá|\n",
      "|AGD018666|2022-04-01|         null|    297233|         null|         null|         null|Truyền Hình|Tìm kiếm bằng giọ...|      tình yêu ấm áp|\n",
      "|AGD021091|2022-04-01|         null|   2065992|         null|         null|         null|Truyền Hình|bạn trai tôi là h...|  lưỡi gươm diệt quỷ|\n",
      "|AGD027503|2022-04-01|         null|    207172|         null|         null|         1490|Truyền Hình|sự trỗi dậy của k...|           kênh vtv6|\n",
      "+---------+----------+-------------+----------+-------------+-------------+-------------+-----------+--------------------+--------------------+\n",
      "only showing top 20 rows\n",
      "\n"
     ]
    }
   ],
   "source": [
    "result.show()"
   ]
  },
  {
   "cell_type": "code",
   "execution_count": 79,
   "metadata": {},
   "outputs": [
    {
     "name": "stdout",
     "output_type": "stream",
     "text": [
      "Data Import Successfully\n"
     ]
    }
   ],
   "source": [
    "import_to_mysql(result)"
   ]
  }
 ],
 "metadata": {
  "kernelspec": {
   "display_name": "Python 3",
   "language": "python",
   "name": "python3"
  },
  "language_info": {
   "codemirror_mode": {
    "name": "ipython",
    "version": 3
   },
   "file_extension": ".py",
   "mimetype": "text/x-python",
   "name": "python",
   "nbconvert_exporter": "python",
   "pygments_lexer": "ipython3",
   "version": "3.8.3"
  }
 },
 "nbformat": 4,
 "nbformat_minor": 4
}
